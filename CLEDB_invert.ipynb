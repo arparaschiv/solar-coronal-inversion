{
 "cells": [
  {
   "cell_type": "code",
   "execution_count": 1,
   "id": "7f7a267e-c905-4820-abf7-658620e23bf7",
   "metadata": {},
   "outputs": [
    {
     "data": {
      "text/plain": [
       "<Figure size 1080x1080 with 0 Axes>"
      ]
     },
     "metadata": {},
     "output_type": "display_data"
    }
   ],
   "source": [
    "# Needed libraries\n",
    "#\n",
    "import numpy as np\n",
    "from numba import jit, njit, prange\n",
    "\n",
    "#numba.config.DEBUG_ARRAY_OPT=1\n",
    "#numba.config.NUMBA_PARALLEL_DIAGNOSTICS=1\n",
    "\n",
    "\n",
    "#numba.config.NUMBA_DISABLE_JIT=True\n",
    "import time\n",
    "import importlib\n",
    "import pickle\n",
    "\n",
    "import CLEDB_utils_parallel as cle202_utils   # Utilities to help the inversion\n",
    "\n",
    "import os\n",
    "\n",
    "#s.environ[\"NUMBA_DISABLE_JIT\"] = \"1\""
   ]
  },
  {
   "cell_type": "markdown",
   "id": "f1fae449-280b-4c80-9a7c-ee4f42576127",
   "metadata": {
    "tags": []
   },
   "source": [
    "## 3 types of simulated/faked observations"
   ]
  },
  {
   "cell_type": "code",
   "execution_count": 2,
   "id": "0f649ad0-ac5f-4833-9b27-d1f30801979c",
   "metadata": {},
   "outputs": [],
   "source": [
    "## use fake_obs to just generate a random map.\n",
    "# FE XIII 1074+1079\n",
    "## This has the benefit of also testing the uncertainty implementation\n",
    "## THIS IS VERY HACKISH!\n",
    "\n",
    "# with open('obsstokes_dbfake.pkl','rb') as f:\n",
    "#     sobs_a,yobs_a,rms,xxl,yyl = pickle.load(f) \n"
   ]
  },
  {
   "cell_type": "code",
   "execution_count": 3,
   "id": "0ad9eb85-27be-40ac-8b8c-deba569f0b5a",
   "metadata": {},
   "outputs": [],
   "source": [
    "## load the CLE 3dipole fake observation data\n",
    "## FE XIII 1074+1079\n",
    "## sobs_a is normalized to first column (stokes I 1074)\n",
    "## RMS is 1 in this example; observation can be convoluted with noise if needed and re-normalized again\n",
    "\n",
    "with open('obsstokes_3dipole_hires.pkl','rb') as f:\n",
    "    sobs_a,yobs_a,rms,xxl,yyl = pickle.load(f) "
   ]
  },
  {
   "cell_type": "code",
   "execution_count": 4,
   "id": "bc1de077-428e-4693-8bca-6fb67f2aab16",
   "metadata": {},
   "outputs": [],
   "source": [
    "## load the fake observation muram data.\n",
    "## FE XIII 1074+1079\n",
    "## sobs_a is normalized to first column (stokes I 1074)\n",
    "## RMS is 1 in this example; observation can be convoluted with noise if needed and re-normalized again\n",
    "\n",
    "# with open('obsstokes_avg_muram.pkl','rb') as f:\n",
    "#     f1aa,f2aa,sobs_a,yobs_a,rms,wvl,xxl,yyl = pickle.load(f)    \n",
    "\n",
    "# with open('obsstokes_avg_muram2.pkl','rb') as f:\n",
    "#     sobs_a,yobs_a,rms,xxl,yyl = pickle.load(f)        "
   ]
  },
  {
   "cell_type": "markdown",
   "id": "c33298c7-70d2-422b-8bad-9424c11898c6",
   "metadata": {},
   "source": [
    "# DBINVERT MAIN!"
   ]
  },
  {
   "cell_type": "code",
   "execution_count": 5,
   "id": "9fe375b0-2755-4e01-8e3b-2b7762b0ac54",
   "metadata": {},
   "outputs": [
    {
     "name": "stdout",
     "output_type": "stream",
     "text": [
      "####################################\n",
      "##########DBINVERT STARTED##########\n",
      "####################################\n",
      "------------DB READ START-----------\n",
      "DB covers a span of  11  heights between 1.001 - 1.49 Solar radius\n",
      "Load  11  DB heights in memory\n",
      "----------\n",
      "READING INDIVIDUAL DATA...\n",
      "DB file location: /home/alin/Documents/physics_prog/cle/test_cle_degeneracy/db202_deg_150_fe13/DB0450.DAT\n",
      "155  MB in DB file\n",
      "0.614798  SECONDS FOR INDIVIDUAL DB READ\n",
      "----------\n",
      "(10, 60, 180, 90, 8)\n",
      "READING INDIVIDUAL DATA...\n",
      "DB file location: /home/alin/Documents/physics_prog/cle/test_cle_degeneracy/db202_deg_150_fe13/DB0490.DAT\n",
      "155  MB in DB file\n",
      "0.604486  SECONDS FOR INDIVIDUAL DB READ\n",
      "----------\n",
      "(10, 60, 180, 90, 8)\n",
      "READING INDIVIDUAL DATA...\n",
      "DB file location: /home/alin/Documents/physics_prog/cle/test_cle_degeneracy/db202_deg_150_fe13/DB0301.DAT\n",
      "155  MB in DB file\n",
      "0.596060  SECONDS FOR INDIVIDUAL DB READ\n",
      "----------\n",
      "(10, 60, 180, 90, 8)\n",
      "READING INDIVIDUAL DATA...\n",
      "DB file location: /home/alin/Documents/physics_prog/cle/test_cle_degeneracy/db202_deg_150_fe13/DB0001.DAT\n",
      "155  MB in DB file\n",
      "0.601366  SECONDS FOR INDIVIDUAL DB READ\n",
      "----------\n",
      "(10, 60, 180, 90, 8)\n",
      "READING INDIVIDUAL DATA...\n",
      "DB file location: /home/alin/Documents/physics_prog/cle/test_cle_degeneracy/db202_deg_150_fe13/DB0200.DAT\n",
      "155  MB in DB file\n",
      "0.609000  SECONDS FOR INDIVIDUAL DB READ\n",
      "----------\n",
      "(10, 60, 180, 90, 8)\n",
      "READING INDIVIDUAL DATA...\n",
      "DB file location: /home/alin/Documents/physics_prog/cle/test_cle_degeneracy/db202_deg_150_fe13/DB0100.DAT\n",
      "155  MB in DB file\n",
      "0.607649  SECONDS FOR INDIVIDUAL DB READ\n",
      "----------\n",
      "(10, 60, 180, 90, 8)\n",
      "READING INDIVIDUAL DATA...\n",
      "DB file location: /home/alin/Documents/physics_prog/cle/test_cle_degeneracy/db202_deg_150_fe13/DB0401.DAT\n",
      "155  MB in DB file\n",
      "0.601325  SECONDS FOR INDIVIDUAL DB READ\n",
      "----------\n",
      "(10, 60, 180, 90, 8)\n",
      "READING INDIVIDUAL DATA...\n",
      "DB file location: /home/alin/Documents/physics_prog/cle/test_cle_degeneracy/db202_deg_150_fe13/DB0151.DAT\n",
      "155  MB in DB file\n",
      "0.606249  SECONDS FOR INDIVIDUAL DB READ\n",
      "----------\n",
      "(10, 60, 180, 90, 8)\n",
      "READING INDIVIDUAL DATA...\n",
      "DB file location: /home/alin/Documents/physics_prog/cle/test_cle_degeneracy/db202_deg_150_fe13/DB0251.DAT\n",
      "155  MB in DB file\n",
      "0.608492  SECONDS FOR INDIVIDUAL DB READ\n",
      "----------\n",
      "(10, 60, 180, 90, 8)\n",
      "READING INDIVIDUAL DATA...\n",
      "DB file location: /home/alin/Documents/physics_prog/cle/test_cle_degeneracy/db202_deg_150_fe13/DB0350.DAT\n",
      "155  MB in DB file\n",
      "0.842960  SECONDS FOR INDIVIDUAL DB READ\n",
      "----------\n",
      "(10, 60, 180, 90, 8)\n",
      "READING INDIVIDUAL DATA...\n",
      "DB file location: /home/alin/Documents/physics_prog/cle/test_cle_degeneracy/db202_deg_150_fe13/DB0051.DAT\n",
      "155  MB in DB file\n",
      "0.621865  SECONDS FOR INDIVIDUAL DB READ\n",
      "----------\n",
      "(10, 60, 180, 90, 8)\n",
      "18.410948  SECONDS FOR TOTAL DB SEARCH AND FIND\n",
      "--------------DB READ FINALIZED----------------\n"
     ]
    }
   ],
   "source": [
    "################This is the DBINVERT script#################### \n",
    "importlib.reload(cle202_utils)\n",
    "\n",
    "##Global constants & main controling parameters:\n",
    "\n",
    "reduce = np.int_(1)  ## Uses native simmetries to reduce the database search; really fast only if enabled.\n",
    "chi2   = np.int_(50) ## the maximum chi^2 to return; ideally a normalized and reduced chi^2 should be <1\n",
    "ns     = np.int_(12)  ##maximum number of solutions to return\n",
    "\n",
    "## Twoline databases are implemented; individual ion databases are partially implemented (a switcher to select what combination is requested is missing).\n",
    "dbdir  = '/home/alin/Documents/physics_prog/cle/test_cle_degeneracy/db202_deg_150_fe13/' ## main directory containing the two line Fe XIII DB entries; \n",
    "#dbdir  = '/home/alin/Documents/physics_prog/cle/test_cle_degeneracy/db202_R0500/' ## main directory containing the individual ion DB entries; \n",
    "\n",
    "verbose= np.int_(3)  ## incremental verbosity of inversion operations\n",
    "##not fully implememted\n",
    "#verbose=1 gives prints for current operation being done\n",
    "#verbose=2 implements warnings for common caveats.\n",
    "#Verbose=3 will enable execution timing for sections that are not numba non-python enabled.\n",
    "\n",
    "out=np.zeros((xxl,yyl,ns,11),dtype=np.float64)     \n",
    "iquv_match=np.empty((xxl,yyl,ns,8),dtype=np.float64)\n",
    "#Arrays to store the DBINVERT solutions. Provisioned to store the maximum amount of solutions retrievable(ns). \n",
    "#The inversion can produce less than ns solution due to the chi2 condition.\n",
    "##out[0],[1] are the DB index and chi2 fit values respectively.\n",
    "##out[2],[3],[4] are the plasma density, radial height position (y), and los position (x)\n",
    "##out[5],[6],[7] are the LVS field B (scaled using the V_obs/V_db ratio) with phi and theta angles\n",
    "##out[8],[9],[10] are bx by bz scaled using the V_obs/V_db ratio\n",
    "\n",
    "if verbose >=1:\n",
    "    print('####################################\\n##########DBINVERT STARTED##########\\n####################################')\n",
    "    if verbose >=3: start=time.time()\n",
    "\n",
    "# fenc,db1,hdrparams=cle202_utils.db_find(yobs_a,\n",
    "#                                              dbdir1,\n",
    "#                                              xxl,\n",
    "#                                              yyl,\n",
    "#                                              verbose)  \n",
    "fenc,db,hdrparams=cle202_utils.db_find(yobs_a,\n",
    "                                             dbdir,\n",
    "                                             xxl,\n",
    "                                             yyl,\n",
    "                                             verbose)  "
   ]
  },
  {
   "cell_type": "code",
   "execution_count": 11,
   "id": "f30e1a97-5081-44cc-aa8b-00747908f4f3",
   "metadata": {},
   "outputs": [
    {
     "name": "stdout",
     "output_type": "stream",
     "text": [
      "------------TWO LINE INVERSION START-----------\n",
      "Executing ext. loop: 0  of  280  ( 600  calculations / loop)\n",
      "Executing ext. loop: 1  of  280  ( 600  calculations / loop)\n",
      "Executing ext. loop: 2  of  280  ( 600  calculations / loop)\n",
      "Executing ext. loop: 3  of  280  ( 600  calculations / loop)\n",
      "Executing ext. loop: 4  of  280  ( 600  calculations / loop)\n",
      "Executing ext. loop: 5  of  280  ( 600  calculations / loop)\n",
      "Executing ext. loop: 6  of  280  ( 600  calculations / loop)\n",
      "Executing ext. loop: 7  of  280  ( 600  calculations / loop)\n",
      "Executing ext. loop: 8  of  280  ( 600  calculations / loop)\n",
      "Executing ext. loop: 9  of  280  ( 600  calculations / loop)\n",
      "Executing ext. loop: 10  of  280  ( 600  calculations / loop)\n",
      "Executing ext. loop: 11  of  280  ( 600  calculations / loop)\n",
      "Executing ext. loop: 12  of  280  ( 600  calculations / loop)\n",
      "Executing ext. loop: 13  of  280  ( 600  calculations / loop)\n",
      "Executing ext. loop: 14  of  280  ( 600  calculations / loop)\n",
      "Executing ext. loop: 15  of  280  ( 600  calculations / loop)\n",
      "Executing ext. loop: 16  of  280  ( 600  calculations / loop)\n",
      "Executing ext. loop: 17  of  280  ( 600  calculations / loop)\n",
      "Executing ext. loop: 18  of  280  ( 600  calculations / loop)\n",
      "Executing ext. loop: 19  of  280  ( 600  calculations / loop)\n",
      "Executing ext. loop: 20  of  280  ( 600  calculations / loop)\n",
      "Executing ext. loop: 21  of  280  ( 600  calculations / loop)\n",
      "Executing ext. loop: 22  of  280  ( 600  calculations / loop)\n",
      "Executing ext. loop: 23  of  280  ( 600  calculations / loop)\n",
      "Executing ext. loop: 24  of  280  ( 600  calculations / loop)\n",
      "Executing ext. loop: 25  of  280  ( 600  calculations / loop)\n",
      "Executing ext. loop: 26  of  280  ( 600  calculations / loop)\n",
      "Executing ext. loop: 27  of  280  ( 600  calculations / loop)\n",
      "Executing ext. loop: 28  of  280  ( 600  calculations / loop)\n",
      "Executing ext. loop: 29  of  280  ( 600  calculations / loop)\n",
      "Executing ext. loop: 30  of  280  ( 600  calculations / loop)\n",
      "Executing ext. loop: 31  of  280  ( 600  calculations / loop)\n",
      "Executing ext. loop: 32  of  280  ( 600  calculations / loop)\n",
      "Executing ext. loop: 33  of  280  ( 600  calculations / loop)\n",
      "Executing ext. loop: 34  of  280  ( 600  calculations / loop)\n",
      "Executing ext. loop: 35  of  280  ( 600  calculations / loop)\n",
      "Executing ext. loop: 36  of  280  ( 600  calculations / loop)\n",
      "Executing ext. loop: 37  of  280  ( 600  calculations / loop)\n",
      "Executing ext. loop: 38  of  280  ( 600  calculations / loop)\n",
      "Executing ext. loop: 39  of  280  ( 600  calculations / loop)\n",
      "Executing ext. loop: 40  of  280  ( 600  calculations / loop)\n",
      "Executing ext. loop: 41  of  280  ( 600  calculations / loop)\n",
      "Executing ext. loop: 42  of  280  ( 600  calculations / loop)\n",
      "Executing ext. loop: 43  of  280  ( 600  calculations / loop)\n",
      "Executing ext. loop: 44  of  280  ( 600  calculations / loop)\n",
      "Executing ext. loop: 45  of  280  ( 600  calculations / loop)\n",
      "Executing ext. loop: 46  of  280  ( 600  calculations / loop)\n",
      "Executing ext. loop: 47  of  280  ( 600  calculations / loop)\n",
      "Executing ext. loop: 48  of  280  ( 600  calculations / loop)\n",
      "Executing ext. loop: 49  of  280  ( 600  calculations / loop)\n",
      "Executing ext. loop: 50  of  280  ( 600  calculations / loop)\n",
      "Executing ext. loop: 51  of  280  ( 600  calculations / loop)\n",
      "Executing ext. loop: 52  of  280  ( 600  calculations / loop)\n",
      "Executing ext. loop: 53  of  280  ( 600  calculations / loop)\n",
      "Executing ext. loop: 54  of  280  ( 600  calculations / loop)\n",
      "Executing ext. loop: 55  of  280  ( 600  calculations / loop)\n",
      "Executing ext. loop: 56  of  280  ( 600  calculations / loop)\n",
      "Executing ext. loop: 57  of  280  ( 600  calculations / loop)\n",
      "Executing ext. loop: 58  of  280  ( 600  calculations / loop)\n",
      "Executing ext. loop: 59  of  280  ( 600  calculations / loop)\n",
      "Executing ext. loop: 60  of  280  ( 600  calculations / loop)\n",
      "Executing ext. loop: 61  of  280  ( 600  calculations / loop)\n",
      "Executing ext. loop: 62  of  280  ( 600  calculations / loop)\n",
      "Executing ext. loop: 63  of  280  ( 600  calculations / loop)\n",
      "Executing ext. loop: 64  of  280  ( 600  calculations / loop)\n",
      "Executing ext. loop: 65  of  280  ( 600  calculations / loop)\n",
      "Executing ext. loop: 66  of  280  ( 600  calculations / loop)\n",
      "Executing ext. loop: 67  of  280  ( 600  calculations / loop)\n",
      "Executing ext. loop: 68  of  280  ( 600  calculations / loop)\n",
      "Executing ext. loop: 69  of  280  ( 600  calculations / loop)\n",
      "Executing ext. loop: 70  of  280  ( 600  calculations / loop)\n",
      "Executing ext. loop: 71  of  280  ( 600  calculations / loop)\n",
      "Executing ext. loop: 72  of  280  ( 600  calculations / loop)\n",
      "Executing ext. loop: 73  of  280  ( 600  calculations / loop)\n",
      "Executing ext. loop: 74  of  280  ( 600  calculations / loop)\n"
     ]
    },
    {
     "ename": "KeyboardInterrupt",
     "evalue": "",
     "output_type": "error",
     "traceback": [
      "\u001b[0;31m---------------------------------------------------------------------------\u001b[0m",
      "\u001b[0;31mKeyboardInterrupt\u001b[0m                         Traceback (most recent call last)",
      "\u001b[0;32m<ipython-input-11-b7efc3b4629c>\u001b[0m in \u001b[0;36m<module>\u001b[0;34m\u001b[0m\n\u001b[1;32m     65\u001b[0m     \u001b[0;32mreturn\u001b[0m \u001b[0moutparams\u001b[0m\u001b[0;34m,\u001b[0m\u001b[0msmatch\u001b[0m\u001b[0;34m\u001b[0m\u001b[0;34m\u001b[0m\u001b[0m\n\u001b[1;32m     66\u001b[0m \u001b[0;34m\u001b[0m\u001b[0m\n\u001b[0;32m---> 67\u001b[0;31m \u001b[0mout\u001b[0m\u001b[0;34m,\u001b[0m\u001b[0miquv_match\u001b[0m\u001b[0;34m=\u001b[0m\u001b[0mdbinvert_twoline_par\u001b[0m\u001b[0;34m(\u001b[0m\u001b[0msobs_a\u001b[0m\u001b[0;34m,\u001b[0m\u001b[0mdb\u001b[0m\u001b[0;34m,\u001b[0m\u001b[0mfenc\u001b[0m\u001b[0;34m,\u001b[0m\u001b[0myobs_a\u001b[0m\u001b[0;34m,\u001b[0m\u001b[0mdbdir\u001b[0m\u001b[0;34m,\u001b[0m\u001b[0mrms\u001b[0m\u001b[0;34m,\u001b[0m\u001b[0mhdrparams\u001b[0m\u001b[0;34m,\u001b[0m\u001b[0mxxl\u001b[0m\u001b[0;34m,\u001b[0m\u001b[0myyl\u001b[0m\u001b[0;34m,\u001b[0m\u001b[0mns\u001b[0m\u001b[0;34m,\u001b[0m\u001b[0mchi2\u001b[0m\u001b[0;34m,\u001b[0m\u001b[0mreduce\u001b[0m\u001b[0;34m,\u001b[0m\u001b[0mverbose\u001b[0m\u001b[0;34m)\u001b[0m\u001b[0;34m\u001b[0m\u001b[0;34m\u001b[0m\u001b[0m\n\u001b[0m\u001b[1;32m     68\u001b[0m \u001b[0;34m\u001b[0m\u001b[0m\n\u001b[1;32m     69\u001b[0m \u001b[0;34m\u001b[0m\u001b[0m\n",
      "\u001b[0;32m<ipython-input-11-b7efc3b4629c>\u001b[0m in \u001b[0;36mdbinvert_twoline_par\u001b[0;34m(sobs, database, fe, yobs, dbdir, rms, hdrparams, xxl, yyl, nsearch, chi2, reduced, verbose)\u001b[0m\n\u001b[1;32m     39\u001b[0m \u001b[0;31m#                                                                                                              0)\u001b[0m\u001b[0;34m\u001b[0m\u001b[0;34m\u001b[0m\u001b[0;34m\u001b[0m\u001b[0m\n\u001b[1;32m     40\u001b[0m \u001b[0;34m\u001b[0m\u001b[0m\n\u001b[0;32m---> 41\u001b[0;31m                 \u001b[0moutparams\u001b[0m\u001b[0;34m[\u001b[0m\u001b[0mxx\u001b[0m\u001b[0;34m,\u001b[0m\u001b[0myy\u001b[0m\u001b[0;34m,\u001b[0m\u001b[0;34m:\u001b[0m\u001b[0;34m,\u001b[0m\u001b[0;34m:\u001b[0m\u001b[0;34m]\u001b[0m\u001b[0;34m,\u001b[0m\u001b[0msmatch\u001b[0m\u001b[0;34m[\u001b[0m\u001b[0mxx\u001b[0m\u001b[0;34m,\u001b[0m\u001b[0myy\u001b[0m\u001b[0;34m,\u001b[0m\u001b[0;34m:\u001b[0m\u001b[0;34m,\u001b[0m\u001b[0;34m:\u001b[0m\u001b[0;34m]\u001b[0m\u001b[0;34m=\u001b[0m\u001b[0mcle202_utils\u001b[0m\u001b[0;34m.\u001b[0m\u001b[0mclematch_par\u001b[0m\u001b[0;34m(\u001b[0m\u001b[0msobs\u001b[0m\u001b[0;34m[\u001b[0m\u001b[0mxx\u001b[0m\u001b[0;34m,\u001b[0m\u001b[0myy\u001b[0m\u001b[0;34m,\u001b[0m\u001b[0;34m:\u001b[0m\u001b[0;34m]\u001b[0m\u001b[0;34m,\u001b[0m\u001b[0myobs\u001b[0m\u001b[0;34m[\u001b[0m\u001b[0mxx\u001b[0m\u001b[0;34m,\u001b[0m\u001b[0myy\u001b[0m\u001b[0;34m]\u001b[0m\u001b[0;34m,\u001b[0m\u001b[0mdatabase\u001b[0m\u001b[0;34m[\u001b[0m\u001b[0mfe\u001b[0m\u001b[0;34m[\u001b[0m\u001b[0mxx\u001b[0m\u001b[0;34m,\u001b[0m\u001b[0myy\u001b[0m\u001b[0;34m]\u001b[0m\u001b[0;34m]\u001b[0m\u001b[0;34m,\u001b[0m\u001b[0mhdrparams\u001b[0m\u001b[0;34m,\u001b[0m \u001b[0mrms\u001b[0m\u001b[0;34m,\u001b[0m \u001b[0;34m''\u001b[0m\u001b[0;34m,\u001b[0m\u001b[0mchi2\u001b[0m\u001b[0;34m,\u001b[0m\u001b[0mnsearch\u001b[0m\u001b[0;34m,\u001b[0m \u001b[0mreduced\u001b[0m\u001b[0;34m,\u001b[0m \u001b[0;36m0\u001b[0m\u001b[0;34m)\u001b[0m\u001b[0;34m\u001b[0m\u001b[0;34m\u001b[0m\u001b[0m\n\u001b[0m\u001b[1;32m     42\u001b[0m \u001b[0;34m\u001b[0m\u001b[0m\n\u001b[1;32m     43\u001b[0m \u001b[0;34m\u001b[0m\u001b[0m\n",
      "\u001b[0;32m~/Documents/physics_prog/python/spectropolarimetry/Cryo-nirsp-inversion/CLEDB_utils_parallel.py\u001b[0m in \u001b[0;36mclematch_par\u001b[0;34m(sobs, yobs, database, dbhdr, rms, outdir, maxchisq, nsearch, reduction, verbose)\u001b[0m\n\u001b[1;32m    153\u001b[0m     \u001b[0mdiff\u001b[0m\u001b[0;34m=\u001b[0m\u001b[0mnp\u001b[0m\u001b[0;34m.\u001b[0m\u001b[0mempty\u001b[0m\u001b[0;34m(\u001b[0m\u001b[0;34m(\u001b[0m\u001b[0mdatabase\u001b[0m\u001b[0;34m.\u001b[0m\u001b[0mshape\u001b[0m\u001b[0;34m[\u001b[0m\u001b[0;36m0\u001b[0m\u001b[0;34m]\u001b[0m\u001b[0;34m,\u001b[0m\u001b[0;36m6\u001b[0m\u001b[0;34m)\u001b[0m\u001b[0;34m,\u001b[0m\u001b[0mdtype\u001b[0m\u001b[0;34m=\u001b[0m\u001b[0mnp\u001b[0m\u001b[0;34m.\u001b[0m\u001b[0mfloat64\u001b[0m\u001b[0;34m)\u001b[0m\u001b[0;34m\u001b[0m\u001b[0;34m\u001b[0m\u001b[0m\n\u001b[1;32m    154\u001b[0m     \u001b[0mdiff\u001b[0m\u001b[0;34m[\u001b[0m\u001b[0;34m:\u001b[0m\u001b[0;34m,\u001b[0m\u001b[0;36m0\u001b[0m\u001b[0;34m:\u001b[0m\u001b[0;36m2\u001b[0m\u001b[0;34m]\u001b[0m\u001b[0;34m=\u001b[0m \u001b[0;34m(\u001b[0m\u001b[0mdatabase\u001b[0m\u001b[0;34m[\u001b[0m\u001b[0;34m:\u001b[0m\u001b[0;34m,\u001b[0m\u001b[0;36m1\u001b[0m\u001b[0;34m:\u001b[0m\u001b[0;36m3\u001b[0m\u001b[0;34m]\u001b[0m\u001b[0;34m-\u001b[0m\u001b[0msobs\u001b[0m\u001b[0;34m[\u001b[0m\u001b[0;36m1\u001b[0m\u001b[0;34m:\u001b[0m\u001b[0;36m3\u001b[0m\u001b[0;34m]\u001b[0m\u001b[0;34m)\u001b[0m \u001b[0;34m/\u001b[0m \u001b[0mrms\u001b[0m\u001b[0;34m[\u001b[0m\u001b[0;36m1\u001b[0m\u001b[0;34m:\u001b[0m\u001b[0;36m3\u001b[0m\u001b[0;34m]\u001b[0m\u001b[0;34m\u001b[0m\u001b[0;34m\u001b[0m\u001b[0m\n\u001b[0;32m--> 155\u001b[0;31m     \u001b[0mdiff\u001b[0m\u001b[0;34m[\u001b[0m\u001b[0;34m:\u001b[0m\u001b[0;34m,\u001b[0m\u001b[0;36m2\u001b[0m\u001b[0;34m:\u001b[0m\u001b[0;36m5\u001b[0m\u001b[0;34m]\u001b[0m\u001b[0;34m=\u001b[0m \u001b[0;34m(\u001b[0m\u001b[0mdatabase\u001b[0m\u001b[0;34m[\u001b[0m\u001b[0;34m:\u001b[0m\u001b[0;34m,\u001b[0m\u001b[0;36m4\u001b[0m\u001b[0;34m:\u001b[0m\u001b[0;36m7\u001b[0m\u001b[0;34m]\u001b[0m\u001b[0;34m-\u001b[0m\u001b[0msobs\u001b[0m\u001b[0;34m[\u001b[0m\u001b[0;36m4\u001b[0m\u001b[0;34m:\u001b[0m\u001b[0;36m7\u001b[0m\u001b[0;34m]\u001b[0m\u001b[0;34m)\u001b[0m \u001b[0;34m/\u001b[0m \u001b[0mrms\u001b[0m\u001b[0;34m[\u001b[0m\u001b[0;36m4\u001b[0m\u001b[0;34m:\u001b[0m\u001b[0;36m7\u001b[0m\u001b[0;34m]\u001b[0m\u001b[0;34m\u001b[0m\u001b[0;34m\u001b[0m\u001b[0m\n\u001b[0m\u001b[1;32m    156\u001b[0m \u001b[0;34m\u001b[0m\u001b[0m\n\u001b[1;32m    157\u001b[0m     \u001b[0;31m#print(\"{:4.6f}\".format(time.time()-start),' SECONDS FOR ALLOC DIFF')\u001b[0m\u001b[0;34m\u001b[0m\u001b[0;34m\u001b[0m\u001b[0;34m\u001b[0m\u001b[0m\n",
      "\u001b[0;31mKeyboardInterrupt\u001b[0m: "
     ]
    }
   ],
   "source": [
    "importlib.reload(cle202_utils)\n",
    "os.environ[\"NUMBA_DISABLE_JIT\"] = \"0\"\n",
    "\n",
    "if verbose >=1: print('------------TWO LINE INVERSION START-----------')\n",
    "@njit(parallel=True)\n",
    "def dbinvert_twoline_par(sobs,database,fe,yobs,dbdir,rms,hdrparams,xxl,yyl,nsearch,chi2,reduced,verbose):\n",
    "    np.argpartition(sobs,4)\n",
    "    ##Output variables\n",
    "    outparams=np.zeros((xxl,yyl,nsearch,11),dtype=np.float64)     \n",
    "    smatch  =np.zeros((xxl,yyl,nsearch,8),dtype=np.float64)  \n",
    "    \n",
    "    ## Number of degrees of freedom >4; we require a two line full IQUV observation.\n",
    "    ## assume the last dimension of sobs is the number of observables; 2 lines=8\n",
    "    ## Database needs to match the observation\n",
    "    if sobs.shape[-1] != 8 or database[0].shape[-1] != 8: \n",
    "        print('clematch: Must have a two line observation and/or a corresponding two line database; Aborting!')\n",
    "        if verbose >=1: print(\"Shapes are: \", sobs.shape,\" and \",database[0].shape)\n",
    "        outparams[:,:,:,0]=np.full((xxl,yyl,nsearch),-1) ### index is -1 for failed runs!\n",
    "        return outparams,smatch\n",
    "    \n",
    "    \n",
    "#     index   = np.empty((xxl,yyl,nsearch),dtype=np.int_)\n",
    "#     chisq   = np.empty((xxl,yyl,nsearch),dtype=np.float64)\n",
    "#     physics = np.empty((xxl,yyl,nsearch,9),dtype=np.float64)\n",
    "\n",
    "    if verbose >= 1:      \n",
    "        for xx in range(xxl):\n",
    "            print(\"Executing ext. loop:\",xx,\" of \",xxl,\" (\",yyl,\" calculations / loop)\")\n",
    "            for yy in prange(yyl):\n",
    "#                 index[xx,yy,:],smatch[xx,yy,:,:],chisq[xx,yy,:],physics[xx,yy,:,:]=cle202_utils.clematch_par(sobs[xx,yy,:],\n",
    "#                                                                                                              yobs[xx,yy],\n",
    "#                                                                                                              database[fe[xx,yy]],\n",
    "#                                                                                                              hdrparams,\n",
    "#                                                                                                              rms,\n",
    "#                                                                                                              '',\n",
    "#                                                                                                              chi2,\n",
    "#                                                                                                              nsearch,\n",
    "#                                                                                                              reduced,\n",
    "#                                                                                                              0)\n",
    "\n",
    "                outparams[xx,yy,:,:],smatch[xx,yy,:,:]=cle202_utils.clematch_par(sobs[xx,yy,:],yobs[xx,yy],database[fe[xx,yy]],hdrparams, rms, '',chi2,nsearch, reduced, 0)\n",
    "          \n",
    "            \n",
    "            #outparams[xx,yy,:,0]=index[xx,yy,:]\n",
    "            #outparams[xx,yy,:,1]=chisq[xx,yy,:]\n",
    "            #outparams[xx,yy,:,2:11]=physics[xx,yy,:,:]\n",
    "#     else:\n",
    "#         for xx in range(xxl):\n",
    "#             for yy in prange(yyl):\n",
    "\n",
    "#                 index[xx,yy,:],smatch[xx,yy,:,:],chisq[xx,yy,:],physics[xx,yy,:,:]=cle202_utils.clematch_par(sobs[xx,yy,:],\n",
    "#                                                                                                              yobs[xx,yy],\n",
    "#                                                                                                              database[fe[xx,yy]],\n",
    "#                                                                                                              hdrparams,\n",
    "#                                                                                                              rms,                                         '',\n",
    "#                                                                                                              chi2,\n",
    "#                                                                                                              nsearch,\n",
    "#                                                                                                              reduced,\n",
    "#                                                                                                              verbose)        \n",
    "               \n",
    "#     outparams[:,:,:,0]=index\n",
    "#     outparams[:,:,:,1]=chisq\n",
    "#     outparams[:,:,:,2:11]=physics\n",
    "\n",
    "    return outparams,smatch\n",
    "\n",
    "out,iquv_match=dbinvert_twoline_par(sobs_a,db,fenc,yobs_a,dbdir,rms,hdrparams,xxl,yyl,ns,chi2,reduce,verbose)\n",
    "\n",
    "\n",
    "if verbose >=1:\n",
    "    print('####################################\\n##########DBINVERT FINALIZED##########\\n####################################')\n",
    "    if verbose >=3: print(\"{:4.6f}\".format(time.time()-start),' TOTAL SECONDS FOR DBINVERT ')"
   ]
  },
  {
   "cell_type": "code",
   "execution_count": 20,
   "id": "27503df6-f70a-477b-8da4-f4f23f11ab36",
   "metadata": {},
   "outputs": [
    {
     "data": {
      "application/vnd.jupyter.widget-view+json": {
       "model_id": "0f752bf318b94f86a56337793c7197b5",
       "version_major": 2,
       "version_minor": 0
      },
      "text/plain": [
       "Canvas(toolbar=Toolbar(toolitems=[('Home', 'Reset original view', 'home', 'home'), ('Back', 'Back to previous …"
      ]
     },
     "metadata": {},
     "output_type": "display_data"
    },
    {
     "data": {
      "text/plain": [
       "<matplotlib.image.AxesImage at 0x7fe680f3ec90>"
      ]
     },
     "execution_count": 20,
     "metadata": {},
     "output_type": "execute_result"
    }
   ],
   "source": [
    "from matplotlib import pyplot as plt\n",
    "%matplotlib widget\n",
    "plt.figure(figsize=(11, 6))\n",
    "plt.imshow(out[:,:,5,2].T)#,vmin=6,vmax=9.5) ##alog of density!\n",
    "#plt.imshow(fenc.T)\n",
    "#plt.imshow(yobs_a[:,:].T)\n"
   ]
  },
  {
   "cell_type": "code",
   "execution_count": 92,
   "id": "149bbb64-0dde-4758-a2dc-54ab3daa40c5",
   "metadata": {},
   "outputs": [
    {
     "name": "stdout",
     "output_type": "stream",
     "text": [
      "    index        chi^2         ne      Y height     X los      B           Phi       Theta       Bx         By          Bz\n",
      "[[4374669.         2.43       8.29       1.13       0.03      18.17      14.08      78.88      17.29       4.34       3.5 ]\n",
      " [4381509.         2.43       8.29       1.13       0.03     -18.16     166.93      78.88      17.36      -4.03      -3.5 ]\n",
      " [4382781.         2.43       8.29       1.13       0.03     -18.16     195.08     103.15      17.08       4.6        4.13]\n",
      " [4389621.         2.43       8.29       1.13       0.03      18.17     347.93     103.15      17.3       -3.7       -4.13]\n",
      " [4374759.         3.5        8.29       1.13       0.03      18.34      16.09      78.88      17.29       4.99       3.54]\n",
      " [4381419.         3.5        8.29       1.13       0.03     -18.34     164.92      78.88      17.37      -4.68      -3.54]\n",
      " [4382871.         3.5        8.29       1.13       0.03     -18.34     197.09     103.15      17.07       5.25       4.17]\n",
      " [4389531.         3.5        8.29       1.13       0.03      18.34     345.92     103.15      17.32      -4.34      -4.17]\n",
      " [4374758.         4.33       8.29       1.13       0.03      18.49      16.09      76.85      17.3        4.99       4.21]\n",
      " [4381418.         4.33       8.29       1.13       0.03     -18.49     164.92      76.85      17.39      -4.69      -4.21]\n",
      " [4382872.         4.33       8.29       1.13       0.03     -18.49     197.09     105.17      17.06       5.25       4.84]\n",
      " [4389532.         4.33       8.29       1.13       0.03      18.49     345.92     105.17      17.31      -4.34      -4.84]]\n"
     ]
    }
   ],
   "source": [
    "np.set_printoptions(linewidth=180,precision=2,suppress=True)    \n",
    "out1=np.copy(out)\n",
    "for i in range(12):\n",
    "    out1[:,:,i,1]=out1[:,:,i,1]*1e7\n",
    "    out1[:,:,i,6]=out1[:,:,i,6]*180/np.pi\n",
    "    out1[:,:,i,7]=out1[:,:,i,7]*180/np.pi\n",
    "print(\"    index\", \"       chi^2\",\"        ne\" , \"     Y height\", \"    X los\", \"     B\" ,\"          Phi\", \"      Theta\", \"      Bx\", \"        By\", \"         Bz\" )\n",
    "print(out1[130,270,:,:])\n",
    "\n",
    "# np.set_printoptions(suppress=False)\n",
    "# print(out[130,270,:,1])"
   ]
  },
  {
   "cell_type": "code",
   "execution_count": 11,
   "id": "6e731940-8078-413b-a6d3-ed437cbe8b47",
   "metadata": {},
   "outputs": [
    {
     "name": "stdout",
     "output_type": "stream",
     "text": [
      "10 (10, 60, 180, 90, 8)\n",
      "[ 1.00000000e+00 -4.70111299e-03  4.37379255e-02 -4.39165539e-06\n",
      "  3.88484285e-01 -4.69583030e-05  4.36427498e-04 -3.49742398e-06]\n"
     ]
    }
   ],
   "source": [
    "print(len(db1[3]),db1[3].shape)\n",
    "print(db1[3][5,55,43,21,:])"
   ]
  },
  {
   "cell_type": "code",
   "execution_count": 7,
   "id": "3140d44f-4568-41a5-851b-e58950641132",
   "metadata": {},
   "outputs": [
    {
     "name": "stdout",
     "output_type": "stream",
     "text": [
      "10 (10, 60, 180, 90, 8)\n",
      "[ 1.00000000e+00 -4.19970207e-03  3.90317654e-02 -4.32276463e-06\n",
      "  3.43410422e-01 -4.66130961e-05  4.33219167e-04 -1.53864879e-06]\n",
      "[ 1.00000000e+00 -3.34808356e-03  3.11496936e-02 -4.35477813e-06\n",
      "  2.80491796e-01 -2.76344127e-05  2.56832484e-04 -1.25806758e-06]\n"
     ]
    }
   ],
   "source": [
    "print(len(db2[0]),db2[0].shape)\n",
    "print(db2[2][5,55,43,21,:])\n",
    "print(db2[1][5,55,43,21,:])"
   ]
  },
  {
   "cell_type": "code",
   "execution_count": null,
   "id": "4c2fbfd7-c427-4126-b385-50eb84091b5d",
   "metadata": {},
   "outputs": [
    {
     "name": "stdout",
     "output_type": "stream",
     "text": [
      "READING INDIVIDUAL DATA...\n",
      "DB file location: /home/alin/Documents/physics_prog/cle/test_cle_degeneracy/db202_R0500/fe-xiii_1074/DB0001.DAT\n",
      "77  MB in DB file\n"
     ]
    }
   ],
   "source": [
    "gg=cle202_utils.sdbread_par('/home/alin/Documents/physics_prog/cle/test_cle_degeneracy/db202_R0500/fe-xiii_1074/DB0001.DAT',hdrparams,verbose)"
   ]
  },
  {
   "cell_type": "code",
   "execution_count": 8,
   "id": "f1a4054d-5eaa-438d-982f-95495737ef6d",
   "metadata": {},
   "outputs": [
    {
     "name": "stdout",
     "output_type": "stream",
     "text": [
      "(10, 60, 180, 90, 4)\n",
      "[ 1.00000000e+00 -4.19970207e-03  3.90317654e-02 -4.32276463e-06]\n",
      "[ 1.00000000e+00 -4.19970207e-03  3.90317654e-02 -4.32276463e-06]\n"
     ]
    }
   ],
   "source": [
    "print(gg.shape)\n",
    "\n",
    "print(gg[5,55,43,21,:]/gg[5,55,43,21,0])\n",
    "for i in range(3,-1,-1):\n",
    "    gg[:,:,:,:,i]=gg[:,:,:,:,i]/gg[:,:,:,:,0]\n",
    "print(gg[5,55,43,21,:])\n"
   ]
  },
  {
   "cell_type": "code",
   "execution_count": 9,
   "id": "f06c246d-6af5-4e29-bf31-7ddd890bec57",
   "metadata": {},
   "outputs": [
    {
     "name": "stdout",
     "output_type": "stream",
     "text": [
      "READING INDIVIDUAL DATA...\n",
      "DB file location: /home/alin/Documents/physics_prog/cle/test_cle_degeneracy/db202_R0500/fe-xiii_1079/DB0001.DAT\n",
      "77  MB in DB file\n",
      "13.771253  SECONDS FOR INDIVIDUAL DB READ\n",
      "----------\n"
     ]
    }
   ],
   "source": [
    "gg1=cle202_utils.sdbread_par('/home/alin/Documents/physics_prog/cle/test_cle_degeneracy/db202_R0500/fe-xiii_1079/DB0001.DAT',hdrparams,verbose)"
   ]
  },
  {
   "cell_type": "code",
   "execution_count": 11,
   "id": "d7d28a97-a94f-408d-b56b-b61d0226873b",
   "metadata": {},
   "outputs": [
    {
     "name": "stdout",
     "output_type": "stream",
     "text": [
      "[ 2.23802118e-07 -3.03779646e-11  2.82330882e-10 -1.00274435e-12]\n"
     ]
    }
   ],
   "source": [
    "print(gg1[5,55,43,21,:])"
   ]
  },
  {
   "cell_type": "code",
   "execution_count": 7,
   "id": "060e729b-edb1-4c37-9b26-48ddfe93a40e",
   "metadata": {},
   "outputs": [
    {
     "name": "stdout",
     "output_type": "stream",
     "text": [
      "[ 1.00000000e+00 -4.19970207e-03  3.90317654e-02 -4.32276463e-06\n",
      "  3.43410422e-01 -4.66130961e-05  4.33219167e-04 -1.53864879e-06]\n"
     ]
    }
   ],
   "source": [
    "print(db[2][5,55,43,21,:])"
   ]
  },
  {
   "cell_type": "code",
   "execution_count": 13,
   "id": "5cf65318-4272-41db-8a99-8a095b9b2817",
   "metadata": {},
   "outputs": [
    {
     "name": "stdout",
     "output_type": "stream",
     "text": [
      "{'dbdir': '/home/alin/Documents/physics_prog/cle/test_cle_degeneracy/db202_deg_150_fe13/', 'reduce': 1, 'nsearch': 4, 'maxchisq': 10, 'verbose': 0}\n"
     ]
    }
   ],
   "source": [
    "\n",
    "class ctrlparams:\n",
    "    def __init__(self):\n",
    "        self.dbdir    = '/home/alin/Documents/physics_prog/cle/test_cle_degeneracy/db202_deg_150_fe13/'   ## directory for database\n",
    "        self.reduce   = 1                                                                                 ## boolean parameter for reduced search\n",
    "        self.nsearch  = 4                                                                                 ## number of closest solutions to compute\n",
    "        self.maxchisq = 10                                                                                ## Stop computing solutions above this chi^2 threshold\n",
    "        self.verbose  = 0                                                                                 ## verbosity parameter\n",
    "a=ctrlparams()\n",
    "print(vars(a))"
   ]
  },
  {
   "cell_type": "code",
   "execution_count": null,
   "id": "16c8932e-372e-4d77-aea3-8b7472310851",
   "metadata": {},
   "outputs": [],
   "source": []
  }
 ],
 "metadata": {
  "kernelspec": {
   "display_name": "Python 3",
   "language": "python",
   "name": "python3"
  },
  "language_info": {
   "codemirror_mode": {
    "name": "ipython",
    "version": 3
   },
   "file_extension": ".py",
   "mimetype": "text/x-python",
   "name": "python",
   "nbconvert_exporter": "python",
   "pygments_lexer": "ipython3",
   "version": "3.8.5"
  }
 },
 "nbformat": 4,
 "nbformat_minor": 5
}
