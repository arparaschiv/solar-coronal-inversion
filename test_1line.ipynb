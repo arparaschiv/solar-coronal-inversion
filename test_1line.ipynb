{
 "cells": [
  {
   "cell_type": "markdown",
   "id": "178c3ae5-e99d-468b-a522-6879c808d632",
   "metadata": {},
   "source": [
    "# Test the one-line CLEDB inversion on synthetic CLE data."
   ]
  },
  {
   "cell_type": "code",
   "execution_count": 1,
   "id": "308b965f-6236-4bc4-94b3-361fa0540192",
   "metadata": {},
   "outputs": [
    {
     "data": {
      "text/plain": [
       "<Figure size 1080x1080 with 0 Axes>"
      ]
     },
     "metadata": {},
     "output_type": "display_data"
    }
   ],
   "source": [
    "## Needed modules\n",
    "import pickle                ## CLE synthetic observation data cube is saved in the pickle format.\n",
    "import importlib             ## reloads imports (python default settings will not reload small changes).\n",
    "\n",
    "from numba.typed import List ## Most numba functions are loaded by the CLEDB modules; non-reflected lists are needed to create a list of 2 bservation arrays\n",
    "\n",
    "## Inversion Constants and control parameter imports.\n",
    "## symbolic links pointing to the root directory containing the files are used. Pythondoes not allow relative upstream references anymore\n",
    "import constants as consts\n",
    "import ctrlparams "
   ]
  },
  {
   "cell_type": "code",
   "execution_count": 2,
   "id": "542f50a9-b769-4bbc-9c6a-df491b048f47",
   "metadata": {},
   "outputs": [],
   "source": [
    "## observations of a 3 dipole coronal structure of a Fe XIII combined observation\n",
    "## sobs1-3 are the independent dipoles\n",
    "## sobsa is the combined 3 dipole output\n",
    "## waveA and waveB are the wavelength arrays for the two Fe XIII lines\n",
    "\n",
    "with open('obsstokes_3dipole_hires_fullspectra.pkl','rb') as f:\n",
    "    sobs1,sobs2,sobs3,sobsa,waveA,waveB = pickle.load(f)  \n",
    "### reversing of the wavelength range. THIS IS NEEDED! CLE writes frequency-wise, so wavelengths are reversed in the original datacubes!!!!!!\n",
    "sobs1=sobs1[:,:,::-1,:]   \n",
    "sobs2=sobs2[:,:,::-1,:]\n",
    "sobs3=sobs3[:,:,::-1,:]\n",
    "sobsa=sobsa[:,:,::-1,:]\n",
    "waveA=waveA[::-1]\n",
    "waveB=waveB[::-1]\n",
    "## we test here using sobs1."
   ]
  },
  {
   "cell_type": "markdown",
   "id": "bd7196ce-3952-45e7-8c56-5f08774cd44a",
   "metadata": {},
   "source": [
    "### 2. Test the CLEDB_PREPINV module with synthetic data. "
   ]
  },
  {
   "cell_type": "markdown",
   "id": "7b7a8fcd-4a9b-4238-a7b0-0fd28fcf59dc",
   "metadata": {},
   "source": [
    "##### Remember to set your personal options and database paths in the ctrlparams class (in the parent directory) before continuing."
   ]
  },
  {
   "cell_type": "code",
   "execution_count": 3,
   "id": "97eded15-63b4-4e87-8492-ce6beb98c03e",
   "metadata": {},
   "outputs": [],
   "source": [
    "import CLEDB_PREPINV.CLEDB_PREPINV as prepinv  ##imports from the CLEDB_PREPINV subdirectory"
   ]
  },
  {
   "cell_type": "code",
   "execution_count": 4,
   "id": "d9edd288-35c1-4964-b90d-8c6103be6ad7",
   "metadata": {},
   "outputs": [
    {
     "data": {
      "text/plain": [
       "[None]"
      ]
     },
     "execution_count": 4,
     "metadata": {},
     "output_type": "execute_result"
    }
   ],
   "source": [
    "## take in just one line from the observation; e.g. one set of IQUV\n",
    "\n",
    "## arrange the two observation \"files\" in a simple list;\n",
    "## un-necesary step given the shape of sobs array, but it mimicks a file/header structure.\n",
    "\n",
    "## set a proper numba typed list\n",
    "sobs_lst=[sobsa[:,:,:,0:4]]                   ## standard python lists will be deprecated by numba\n",
    "sobs_in = List()                              ## this is the List object implemented by numba; It utilizes memory in a column-like fashion.\n",
    "[sobs_in.append(x) for x in sobs_lst]         ## Numba developers claim that it is a significantly faster performing object"
   ]
  },
  {
   "cell_type": "markdown",
   "id": "e12be9fb-c5a2-43a0-a590-e2c12a6bb08b",
   "metadata": {},
   "source": [
    "##### preprocess the observation \"files\""
   ]
  },
  {
   "cell_type": "code",
   "execution_count": 5,
   "id": "15d3130b-3fa7-4f63-9b69-031a448b2632",
   "metadata": {},
   "outputs": [
    {
     "name": "stdout",
     "output_type": "stream",
     "text": [
      "------------------------------------\n",
      "--------OBS PROCESSING START--------\n",
      "------------------------------------\n",
      "We are inverting observations of 1 coronal line(s) \n",
      "Line 1: Fe XIII 1074.7nm\n",
      "------------------------------------\n",
      "-----OBS PREPROCESS FINALIZED-------\n",
      "------------------------------------\n"
     ]
    }
   ],
   "source": [
    "importlib.reload(prepinv)       ## If module is modified, reload the contents\n",
    "params=ctrlparams.ctrlparams()    ## just a shorter label\n",
    "sobs_tot,yobs,rms,background,keyvals,sobs_totrot,aobs=prepinv.sobs_preprocess(sobs_in,params)"
   ]
  },
  {
   "cell_type": "markdown",
   "id": "81e94a37-7232-4651-ad8b-26af30cb32e2",
   "metadata": {},
   "source": [
    "##### At this point all necesary data is loaded into memory; \n",
    "##### An analythical LOS B field solution is used and the database is not required in this case"
   ]
  },
  {
   "cell_type": "markdown",
   "id": "d959dc12-d090-462c-9dbb-6aec40625cab",
   "metadata": {},
   "source": [
    "### 3. Test the CLEDB_PROC module with the same synthetic data."
   ]
  },
  {
   "cell_type": "code",
   "execution_count": 6,
   "id": "532909ab-7b3f-43df-baf6-e4ba4dc9cece",
   "metadata": {},
   "outputs": [],
   "source": [
    "import CLEDB_PROC.CLEDB_PROC as procinv"
   ]
  },
  {
   "cell_type": "markdown",
   "id": "30107c54-138b-479e-9d01-98bd99301362",
   "metadata": {},
   "source": [
    "##### Process the spectroscopy outputs"
   ]
  },
  {
   "cell_type": "code",
   "execution_count": 7,
   "id": "6fabf8b6-b758-49af-abe3-f876cd3b5663",
   "metadata": {},
   "outputs": [
    {
     "name": "stdout",
     "output_type": "stream",
     "text": [
      "--------------------------------------\n",
      "SPECTRO_PROC: SPECTROSCOPY START\n",
      "--------------------------------------\n",
      "--------------------------------------\n",
      "SPECTRO_PROC: SPECTROSCOPY FINALIZED\n",
      "--------------------------------------\n"
     ]
    }
   ],
   "source": [
    "#importlib.reload(procinv)       ## If module is modified, reload the contents \n",
    "specout=procinv.spectro_proc(sobs_in,sobs_tot,rms,background,keyvals,consts,params)"
   ]
  },
  {
   "cell_type": "code",
   "execution_count": 8,
   "id": "e2729071-6b9e-4463-a261-1a37efcb9462",
   "metadata": {},
   "outputs": [],
   "source": [
    "##### Process the LOS vector magnetic field inversion products (Analythical solution)"
   ]
  },
  {
   "cell_type": "code",
   "execution_count": 16,
   "id": "aac2f4ab-1d57-4243-b712-106d89f13bfb",
   "metadata": {},
   "outputs": [
    {
     "name": "stdout",
     "output_type": "stream",
     "text": [
      "--------------------------------------\n",
      "--BLOS_PROC: LOS B ESTIMATION START--\n",
      "--------------------------------------\n"
     ]
    },
    {
     "name": "stderr",
     "output_type": "stream",
     "text": [
      "<ipython-input-16-9d66df0eb8c1>:2: RuntimeWarning: invalid value encountered in double_scalars\n",
      "  blosout=procinv.blos_proc(sobs_tot,rms,keyvals,consts,params)\n"
     ]
    },
    {
     "name": "stdout",
     "output_type": "stream",
     "text": [
      "--------------------------------------\n",
      "---BLOS_PROC: LOS B ESTIMATION END----\n",
      "--------------------------------------\n"
     ]
    }
   ],
   "source": [
    "importlib.reload(procinv)       ## If module is modified, reload the contents \n",
    "blosout=procinv.blos_proc(sobs_tot,rms,keyvals,consts,params)"
   ]
  },
  {
   "cell_type": "markdown",
   "id": "1cca1317-d377-4d2d-abc6-fe5f277a2f83",
   "metadata": {},
   "source": [
    "##### All should be good if we reached this point; all the outputs should be computed."
   ]
  },
  {
   "cell_type": "markdown",
   "id": "733ef061-d6ac-4a03-b88a-c81e1371bdeb",
   "metadata": {},
   "source": [
    "### 4. PLOT the outputs"
   ]
  },
  {
   "cell_type": "code",
   "execution_count": 10,
   "id": "db876adc-73bb-44f1-982f-258dc27277f3",
   "metadata": {},
   "outputs": [],
   "source": [
    "##needed libraries and functions\n",
    "from matplotlib import pyplot as plt\n",
    "%matplotlib widget\n",
    "\n",
    "# colorbar function to have nice colorbars in figures\n",
    "def colorbar(mappable):\n",
    "   from mpl_toolkits.axes_grid1 import make_axes_locatable\n",
    "   import matplotlib.pyplot as plt\n",
    "   last_axes = plt.gca()\n",
    "   ax = mappable.axes\n",
    "   fig = ax.figure\n",
    "   divider = make_axes_locatable(ax)\n",
    "   cax = divider.append_axes(\"right\", size=\"3.5%\", pad=0.05)\n",
    "   cbar = fig.colorbar(mappable, cax=cax)\n",
    "   #cbar.formatter.set_powerlimits((0,4))\n",
    "   plt.sca(last_axes)\n",
    "   return cbar"
   ]
  },
  {
   "cell_type": "code",
   "execution_count": 11,
   "id": "10d5918f-bd0a-49d6-8df7-ebd83436a5d9",
   "metadata": {},
   "outputs": [
    {
     "data": {
      "application/vnd.jupyter.widget-view+json": {
       "model_id": "8ea268c5e2ab423685b50b0b28a90966",
       "version_major": 2,
       "version_minor": 0
      },
      "text/plain": [
       "Canvas(toolbar=Toolbar(toolitems=[('Home', 'Reset original view', 'home', 'home'), ('Back', 'Back to previous …"
      ]
     },
     "metadata": {},
     "output_type": "display_data"
    }
   ],
   "source": [
    "## Plot spectroscopy\n",
    "\n",
    "linen=0                ## choose which line to plot; range is [0:1] for 2 line input\n",
    "\n",
    "fig, plots = plt.subplots(nrows=3, ncols=4, figsize=(12,8))\n",
    "ab=plots[0,0].imshow(specout[230:400,65:195,linen,0],vmin=1074.45,vmax=1074.72)\n",
    "plots[0,0].set_title('Wavelength')\n",
    "colorbar(ab)\n",
    "\n",
    "ab=plots[0,1].imshow(specout[230:400,65:195,linen,1],vmin=-0.5,vmax=0.5)\n",
    "plots[0,1].set_title('Doppler shift [nm]')\n",
    "colorbar(ab)\n",
    "\n",
    "ab=plots[0,2].imshow(specout[230:400,65:195,linen,2],vmin=-40,vmax=40)\n",
    "plots[0,2].set_title('Doppler shift [km/s]')\n",
    "colorbar(ab)\n",
    "\n",
    "ab=plots[0,3].imshow(specout[230:400,65:195,linen,7],vmin=0,vmax=0.01)\n",
    "plots[0,3].set_title('Background Stokes I')\n",
    "colorbar(ab)\n",
    "\n",
    "\n",
    "ab=plots[1,0].imshow(specout[230:400,65:195,linen,3],vmin=0,vmax=5)\n",
    "plots[1,0].set_title('Stokes I int. (linecore)')\n",
    "colorbar(ab)\n",
    "\n",
    "ab=plots[1,1].imshow(specout[230:400,65:195,linen,4],vmin=-0.05,vmax=0.05)\n",
    "plots[1,1].set_title('Stokes Q int. (linecore)')\n",
    "colorbar(ab)\n",
    "\n",
    "ab=plots[1,2].imshow(specout[230:400,65:195,linen,5],vmin=-0.05,vmax=0.05)\n",
    "plots[1,2].set_title('Stokes U int. (linecore)')\n",
    "colorbar(ab)\n",
    "\n",
    "ab=plots[1,3].imshow(specout[230:400,65:195,linen,6],vmin=-0.08,vmax=0.08)\n",
    "plots[1,3].set_title('Stokes V int. (linecore)')\n",
    "colorbar(ab)\n",
    "\n",
    "\n",
    "\n",
    "ab=plots[2,0].imshow(specout[230:400,65:195,linen,8],vmin=0.05,vmax=0.2)\n",
    "plots[2,0].set_title('Line FWHM')\n",
    "colorbar(ab)\n",
    "\n",
    "ab=plots[2,1].imshow(specout[230:400,65:195,linen,9],vmin=0.05,vmax=0.2)\n",
    "plots[2,1].set_title('Non-thermal width')\n",
    "colorbar(ab)\n",
    "\n",
    "ab=plots[2,2].imshow(specout[230:400,65:195,linen,10],vmin=0.0,vmax=0.3)\n",
    "plots[2,2].set_title('Linear polarization fraction')\n",
    "colorbar(ab)\n",
    "\n",
    "ab=plots[2,3].imshow(specout[230:400,65:195,linen,11],vmin=0.0,vmax=0.3)\n",
    "plots[2,3].set_title('Total polarization fraction')\n",
    "colorbar(ab)\n",
    "plt.tight_layout()"
   ]
  },
  {
   "cell_type": "code",
   "execution_count": 17,
   "id": "62c13a2e-2f59-4bad-b93d-c393636a4d27",
   "metadata": {},
   "outputs": [
    {
     "data": {
      "application/vnd.jupyter.widget-view+json": {
       "model_id": "c8c1e9623ad842efa367fab91152e8db",
       "version_major": 2,
       "version_minor": 0
      },
      "text/plain": [
       "Canvas(toolbar=Toolbar(toolitems=[('Home', 'Reset original view', 'home', 'home'), ('Back', 'Back to previous …"
      ]
     },
     "metadata": {},
     "output_type": "display_data"
    }
   ],
   "source": [
    "## plot BLOS\n",
    "\n",
    "\n",
    "fig, plots = plt.subplots(nrows=2, ncols=2, figsize=(8,8))\n",
    "ab=plots[0,0].imshow(blosout[230:400,65:195,0])\n",
    "plots[0,0].set_title('1st degenerate magnetograph solution')\n",
    "colorbar(ab)\n",
    "\n",
    "ab=plots[0,1].imshow(blosout[230:400,65:195,1])\n",
    "plots[0,1].set_title('2nd degenerate magnetograph solution')\n",
    "colorbar(ab)\n",
    "\n",
    "ab=plots[1,0].imshow(blosout[230:400,65:195,2])\n",
    "plots[1,0].set_title('Clasic magnetograph solution')\n",
    "colorbar(ab)\n",
    "\n",
    "ab=plots[1,1].imshow(blosout[230:400,65:195,3])\n",
    "plots[1,1].set_title('Magnetic Azimuth')\n",
    "colorbar(ab)\n",
    "plt.tight_layout()"
   ]
  },
  {
   "cell_type": "code",
   "execution_count": null,
   "id": "78e53030-ea63-4ae2-b7e6-241c4ac972be",
   "metadata": {},
   "outputs": [],
   "source": []
  }
 ],
 "metadata": {
  "kernelspec": {
   "display_name": "Python 3",
   "language": "python",
   "name": "python3"
  },
  "language_info": {
   "codemirror_mode": {
    "name": "ipython",
    "version": 3
   },
   "file_extension": ".py",
   "mimetype": "text/x-python",
   "name": "python",
   "nbconvert_exporter": "python",
   "pygments_lexer": "ipython3",
   "version": "3.8.5"
  }
 },
 "nbformat": 4,
 "nbformat_minor": 5
}
